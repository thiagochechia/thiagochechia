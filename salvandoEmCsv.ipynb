{
  "nbformat": 4,
  "nbformat_minor": 0,
  "metadata": {
    "colab": {
      "provenance": []
    },
    "kernelspec": {
      "name": "python3",
      "display_name": "Python 3"
    },
    "language_info": {
      "name": "python"
    }
  },
  "cells": [
    {
      "cell_type": "markdown",
      "source": [
        "- Para salvar um arquivo CSV no Google Colab, você pode seguir estas etapas:\n",
        "\n",
        "Montar o Google Drive: A maneira mais comum de salvar arquivos no Google Colab é montar o Google Drive na máquina virtual. Isso permite que você acesse e armazene arquivos no Google Drive."
      ],
      "metadata": {
        "id": "J3TowV8j2b2V"
      }
    },
    {
      "cell_type": "code",
      "source": [
        "from google.colab import drive\n",
        "\n",
        "# Monte o Google Drive\n",
        "drive.mount('/content/drive')"
      ],
      "metadata": {
        "colab": {
          "base_uri": "https://localhost:8080/"
        },
        "id": "8TyFR_CA39U1",
        "outputId": "5920a2a2-a537-4c8f-c2fd-7b8b82d86881"
      },
      "execution_count": null,
      "outputs": [
        {
          "output_type": "stream",
          "name": "stdout",
          "text": [
            "Mounted at /content/drive\n"
          ]
        }
      ]
    },
    {
      "cell_type": "markdown",
      "source": [
        "- Siga as instruções para autenticar e montar o Google Drive. Depois disso, você terá acesso ao seu Google Drive no diretório \"/content/drive/My Drive/\"."
      ],
      "metadata": {
        "id": "aSg_rvGh4aKn"
      }
    },
    {
      "cell_type": "markdown",
      "source": [
        "- Salvar o arquivo no Google Drive:\n",
        "\n",
        "\n",
        "Agora você pode salvar o arquivo CSV no seu Google Drive usando o Pandas."
      ],
      "metadata": {
        "id": "5fVyxb1L4T55"
      }
    },
    {
      "cell_type": "code",
      "source": [
        "#lendo o csv de uma url depois transformando-o em um Dataframe de Pandas\n",
        "import pandas as pd\n",
        "url = 'https://drive.google.com/uc?export=download&id=1QJG6AzqG4BO5g_DvpXXIR8d9z0If92sG'\n",
        "solana = pd.read_csv(url)\n",
        "solana\n",
        "\n",
        "# Suponha que 'solana' seja o seu DataFrame\n",
        "# Especifique o caminho completo para o Google Drive\n",
        "caminho_do_arquivo_drive = \"/content/drive/My Drive/solana2.csv\"\n",
        "solana.to_csv(caminho_do_arquivo_drive, index=False)"
      ],
      "metadata": {
        "id": "dnlCd4A94QIw"
      },
      "execution_count": null,
      "outputs": []
    },
    {
      "cell_type": "markdown",
      "source": [
        "- Dessa forma, o arquivo \"solana2.csv\" será salvo no seu Google Drive.\n",
        "\n",
        "Lembre-se de que os arquivos salvos no Google Drive estarão disponíveis para você mesmo após o término da sessão no Google Colab e poderão ser acessados a partir de qualquer lugar conectado à sua conta do Google. Certifique-se de que seu Google Drive tenha espaço suficiente para armazenar os arquivos."
      ],
      "metadata": {
        "id": "MpKol2vx46RL"
      }
    }
  ]
}